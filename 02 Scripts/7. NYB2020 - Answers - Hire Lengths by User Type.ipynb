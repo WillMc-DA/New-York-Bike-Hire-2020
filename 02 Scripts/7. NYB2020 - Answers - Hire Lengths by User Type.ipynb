{
 "cells": [
  {
   "cell_type": "markdown",
   "id": "69bdc619",
   "metadata": {},
   "source": [
    "### This script contains:\n",
    "\n",
    "#### 1. Import libraries & dataset\n",
    "#### 2. Hire Length Batches - Names\n",
    "#### 3. Hire Length Batches - Numbered\n",
    "#### 4. Creating Subsets of the HireLength_Batches\n",
    "#### 5. Getting the counts of each batch, by user type\n"
   ]
  },
  {
   "cell_type": "markdown",
   "id": "a76bcb52",
   "metadata": {},
   "source": [
    "## 1. Import libraries & dataset"
   ]
  },
  {
   "cell_type": "code",
   "execution_count": 1,
   "id": "75924109",
   "metadata": {},
   "outputs": [],
   "source": [
    "import quandl\n",
    "import pandas as pd\n",
    "import numpy as np\n",
    "import seaborn as sns\n",
    "import matplotlib\n",
    "import matplotlib.pyplot as plt\n",
    "import os\n"
   ]
  },
  {
   "cell_type": "code",
   "execution_count": 2,
   "id": "b09d5670",
   "metadata": {},
   "outputs": [],
   "source": [
    "#Ensuring that the graphs you create are displayed within the notebook without the need to \"call\" them specifically.\n",
    "%matplotlib inline"
   ]
  },
  {
   "cell_type": "code",
   "execution_count": 3,
   "id": "ef888469",
   "metadata": {},
   "outputs": [],
   "source": [
    "#Folder path into usable string\n",
    "path = r'C:\\Users\\willm\\Dropbox\\1 Data Analytics Course\\1 New York Citibike Hire'"
   ]
  },
  {
   "cell_type": "code",
   "execution_count": 4,
   "id": "a58cc520",
   "metadata": {},
   "outputs": [],
   "source": [
    "#Import Hire Dataset\n",
    "NYB2020_HireLengths = pd.read_pickle(os.path.join(path, '02 Data','Prepared Data', 'NYB2020merged.pkl'))"
   ]
  },
  {
   "cell_type": "code",
   "execution_count": 5,
   "id": "8c00cdc2",
   "metadata": {},
   "outputs": [],
   "source": [
    "#Set Pandas to show all columns\n",
    "pd.set_option(\"display.max_columns\", None)"
   ]
  },
  {
   "cell_type": "markdown",
   "id": "dbd9bce2",
   "metadata": {},
   "source": [
    "## 2. Hire Length Batches - Names"
   ]
  },
  {
   "cell_type": "code",
   "execution_count": 13,
   "id": "7d085f8b",
   "metadata": {},
   "outputs": [],
   "source": [
    "#Creating a new column to display flags, depending on the length of hire\n",
    "NYB2020_HireLengths.loc[NYB2020_HireLengths['TripMins'] > 2880, 'HireLength_batches'] = 'More than 2 days'\n",
    "NYB2020_HireLengths.loc[(NYB2020_HireLengths['TripMins'] > 1440) & (NYB2020_HireLengths['TripMins'] <= 2880), 'HireLength_batches'] = '2 days'\n",
    "NYB2020_HireLengths.loc[(NYB2020_HireLengths['TripMins'] > 1080) & (NYB2020_HireLengths['TripMins'] <= 1440), 'HireLength_batches'] = '18 to 24 hours'\n",
    "NYB2020_HireLengths.loc[(NYB2020_HireLengths['TripMins'] > 720) & (NYB2020_HireLengths['TripMins'] <= 1080), 'HireLength_batches'] = '12 to 18 hours'\n",
    "NYB2020_HireLengths.loc[(NYB2020_HireLengths['TripMins'] > 360) & (NYB2020_HireLengths['TripMins'] <= 720), 'HireLength_batches'] = '6 to 12 hours'\n",
    "NYB2020_HireLengths.loc[(NYB2020_HireLengths['TripMins'] > 180) & (NYB2020_HireLengths['TripMins'] <= 360), 'HireLength_batches'] = '3 to 6 hours'\n",
    "NYB2020_HireLengths.loc[(NYB2020_HireLengths['TripMins'] > 60) & (NYB2020_HireLengths['TripMins'] <= 180), 'HireLength_batches'] = '1 to 3 hours'\n",
    "NYB2020_HireLengths.loc[(NYB2020_HireLengths['TripMins'] > 30) & (NYB2020_HireLengths['TripMins'] <= 60), 'HireLength_batches'] = '30 mins to 1 hour'\n",
    "NYB2020_HireLengths.loc[(NYB2020_HireLengths['TripMins'] > 15) & (NYB2020_HireLengths['TripMins'] <= 30), 'HireLength_batches'] = '15 to 30 mins'\n",
    "NYB2020_HireLengths.loc[NYB2020_HireLengths['TripMins'] <= 15, 'HireLength_batches'] = 'Up to 15 mins'\n",
    "\n"
   ]
  },
  {
   "cell_type": "code",
   "execution_count": 14,
   "id": "d7c89195",
   "metadata": {
    "scrolled": true
   },
   "outputs": [
    {
     "data": {
      "text/plain": [
       "18 to 24 hours           3345\n",
       "2 days                   3362\n",
       "12 to 18 hours           4572\n",
       "More than 2 days         5711\n",
       "6 to 12 hours            8273\n",
       "3 to 6 hours            35763\n",
       "1 to 3 hours           377042\n",
       "30 mins to 1 hour     2415130\n",
       "15 to 30 mins         5413378\n",
       "Up to 15 mins        11240281\n",
       "Name: HireLength_batches, dtype: int64"
      ]
     },
     "execution_count": 14,
     "metadata": {},
     "output_type": "execute_result"
    }
   ],
   "source": [
    "NYB2020_HireLengths['HireLength_batches'].value_counts(dropna = False, ascending=True)"
   ]
  },
  {
   "cell_type": "markdown",
   "id": "5434208d",
   "metadata": {},
   "source": [
    "<font color=\"blue\"> <b>These numbers are for the total of the columns in the 'Hire Lengths by User Type' sheet in the Tableau Report.</b></font>"
   ]
  },
  {
   "cell_type": "markdown",
   "id": "a1352754",
   "metadata": {},
   "source": [
    "## 3. Hire Length Batches - Numbered\n",
    "#### This is for easier typing of the names for the subsets"
   ]
  },
  {
   "cell_type": "markdown",
   "id": "de208ef5",
   "metadata": {},
   "source": [
    "### - Batch Number 11 is to work out how many times Subscribers went over their allowance - more than 45 minutes.\n",
    "#### It tells me how many Subscriber hires there were between 45 and 60 minutes. Which I can add to the number of hires by Customers between 30 and 60 mins, and all trips over 60 minutes.\n",
    "#### This gives me my numbers for the 'Hire Lengths by User Type' sheet in the Tableau Report."
   ]
  },
  {
   "cell_type": "code",
   "execution_count": 48,
   "id": "0561fcad",
   "metadata": {},
   "outputs": [],
   "source": [
    "#Creating a new column to display flags, depending on the length of hire\n",
    "NYB2020_HireLengths.loc[NYB2020_HireLengths['TripMins'] > 2880, 'HireLength_batches_number'] = '10'\n",
    "NYB2020_HireLengths.loc[(NYB2020_HireLengths['TripMins'] > 1440) & (NYB2020_HireLengths['TripMins'] <= 2880), 'HireLength_batches_number'] = '9'\n",
    "NYB2020_HireLengths.loc[(NYB2020_HireLengths['TripMins'] > 1080) & (NYB2020_HireLengths['TripMins'] <= 1440), 'HireLength_batches_number'] = '8'\n",
    "NYB2020_HireLengths.loc[(NYB2020_HireLengths['TripMins'] > 720) & (NYB2020_HireLengths['TripMins'] <= 1080), 'HireLength_batches_number'] = '7'\n",
    "NYB2020_HireLengths.loc[(NYB2020_HireLengths['TripMins'] > 360) & (NYB2020_HireLengths['TripMins'] <= 720), 'HireLength_batches_number'] = '6'\n",
    "NYB2020_HireLengths.loc[(NYB2020_HireLengths['TripMins'] > 180) & (NYB2020_HireLengths['TripMins'] <= 360), 'HireLength_batches_number'] = '5'\n",
    "NYB2020_HireLengths.loc[(NYB2020_HireLengths['TripMins'] > 60) & (NYB2020_HireLengths['TripMins'] <= 180), 'HireLength_batches_number'] = '4'\n",
    "NYB2020_HireLengths.loc[(NYB2020_HireLengths['TripMins'] > 30) & (NYB2020_HireLengths['TripMins'] <= 60), 'HireLength_batches_number'] = '3'\n",
    "NYB2020_HireLengths.loc[(NYB2020_HireLengths['TripMins'] > 15) & (NYB2020_HireLengths['TripMins'] <= 30), 'HireLength_batches_number'] = '2'\n",
    "NYB2020_HireLengths.loc[(NYB2020_HireLengths['TripMins'] > 45) & (NYB2020_HireLengths['TripMins'] <= 60), 'HireLength_batches_number'] = '11'\n",
    "NYB2020_HireLengths.loc[NYB2020_HireLengths['TripMins'] <= 15, 'HireLength_batches_number'] = '1'\n"
   ]
  },
  {
   "cell_type": "code",
   "execution_count": 49,
   "id": "b8781d2a",
   "metadata": {},
   "outputs": [],
   "source": [
    "NYB2020_HireLengths['HireLength_batches_number'] = NYB2020_HireLengths['HireLength_batches_number'].astype('int8')"
   ]
  },
  {
   "cell_type": "code",
   "execution_count": 50,
   "id": "57ceeb6e",
   "metadata": {},
   "outputs": [
    {
     "data": {
      "text/html": [
       "<div>\n",
       "<style scoped>\n",
       "    .dataframe tbody tr th:only-of-type {\n",
       "        vertical-align: middle;\n",
       "    }\n",
       "\n",
       "    .dataframe tbody tr th {\n",
       "        vertical-align: top;\n",
       "    }\n",
       "\n",
       "    .dataframe thead th {\n",
       "        text-align: right;\n",
       "    }\n",
       "</style>\n",
       "<table border=\"1\" class=\"dataframe\">\n",
       "  <thead>\n",
       "    <tr style=\"text-align: right;\">\n",
       "      <th></th>\n",
       "      <th>TripMins</th>\n",
       "      <th>HireLength_batches_number</th>\n",
       "    </tr>\n",
       "  </thead>\n",
       "  <tbody>\n",
       "    <tr>\n",
       "      <th>0</th>\n",
       "      <td>13.0</td>\n",
       "      <td>1</td>\n",
       "    </tr>\n",
       "    <tr>\n",
       "      <th>1</th>\n",
       "      <td>26.0</td>\n",
       "      <td>2</td>\n",
       "    </tr>\n",
       "    <tr>\n",
       "      <th>2</th>\n",
       "      <td>24.0</td>\n",
       "      <td>2</td>\n",
       "    </tr>\n",
       "    <tr>\n",
       "      <th>3</th>\n",
       "      <td>10.0</td>\n",
       "      <td>1</td>\n",
       "    </tr>\n",
       "    <tr>\n",
       "      <th>4</th>\n",
       "      <td>12.0</td>\n",
       "      <td>1</td>\n",
       "    </tr>\n",
       "    <tr>\n",
       "      <th>5</th>\n",
       "      <td>29.0</td>\n",
       "      <td>2</td>\n",
       "    </tr>\n",
       "    <tr>\n",
       "      <th>6</th>\n",
       "      <td>3.0</td>\n",
       "      <td>1</td>\n",
       "    </tr>\n",
       "    <tr>\n",
       "      <th>7</th>\n",
       "      <td>29.0</td>\n",
       "      <td>2</td>\n",
       "    </tr>\n",
       "    <tr>\n",
       "      <th>8</th>\n",
       "      <td>2.0</td>\n",
       "      <td>1</td>\n",
       "    </tr>\n",
       "    <tr>\n",
       "      <th>9</th>\n",
       "      <td>7.0</td>\n",
       "      <td>1</td>\n",
       "    </tr>\n",
       "  </tbody>\n",
       "</table>\n",
       "</div>"
      ],
      "text/plain": [
       "   TripMins  HireLength_batches_number\n",
       "0      13.0                          1\n",
       "1      26.0                          2\n",
       "2      24.0                          2\n",
       "3      10.0                          1\n",
       "4      12.0                          1\n",
       "5      29.0                          2\n",
       "6       3.0                          1\n",
       "7      29.0                          2\n",
       "8       2.0                          1\n",
       "9       7.0                          1"
      ]
     },
     "execution_count": 50,
     "metadata": {},
     "output_type": "execute_result"
    }
   ],
   "source": [
    "NYB2020_HireLengths[['TripMins', 'HireLength_batches_number']].head(10)"
   ]
  },
  {
   "cell_type": "code",
   "execution_count": 19,
   "id": "5361fecf",
   "metadata": {},
   "outputs": [
    {
     "name": "stdout",
     "output_type": "stream",
     "text": [
      "<class 'pandas.core.frame.DataFrame'>\n",
      "Int64Index: 19506857 entries, 0 to 19506856\n",
      "Data columns (total 27 columns):\n",
      " #   Column                     Dtype  \n",
      "---  ------                     -----  \n",
      " 0   tripduration               int64  \n",
      " 1   starttime                  object \n",
      " 2   stoptime                   object \n",
      " 3   start_station_id           int16  \n",
      " 4   start_station_name         object \n",
      " 5   start_station_latitude     float64\n",
      " 6   start_station_longitude    float64\n",
      " 7   end_station_id             int16  \n",
      " 8   end_station_name           object \n",
      " 9   end_station_latitude       float64\n",
      " 10  end_station_longitude      float64\n",
      " 11  bikeid                     int32  \n",
      " 12  usertype                   object \n",
      " 13  birth_year                 int16  \n",
      " 14  gender                     int8   \n",
      " 15  start_hour                 int8   \n",
      " 16  start_date2                object \n",
      " 17  temp                       int8   \n",
      " 18  rain_snow                  float16\n",
      " 19  day_of_week                object \n",
      " 20  day_of_week_number         int8   \n",
      " 21  month                      object \n",
      " 22  month_number               int8   \n",
      " 23  TripMins                   float64\n",
      " 24  age                        int16  \n",
      " 25  HireLength_batches         object \n",
      " 26  HireLength_batches_number  int8   \n",
      "dtypes: float16(1), float64(5), int16(4), int32(1), int64(1), int8(6), object(9)\n",
      "memory usage: 2.7+ GB\n"
     ]
    }
   ],
   "source": [
    "NYB2020_HireLengths.info()"
   ]
  },
  {
   "cell_type": "markdown",
   "id": "d7c2e5a4",
   "metadata": {},
   "source": [
    "## 4. Creating Subsets of the HireLength_Batches"
   ]
  },
  {
   "cell_type": "code",
   "execution_count": 26,
   "id": "713f5196",
   "metadata": {},
   "outputs": [],
   "source": [
    "NYB2020_HireLengths1 = NYB2020_HireLengths[NYB2020_HireLengths['HireLength_batches_number']==1]"
   ]
  },
  {
   "cell_type": "code",
   "execution_count": 27,
   "id": "d85456a3",
   "metadata": {},
   "outputs": [],
   "source": [
    "NYB2020_HireLengths2 = NYB2020_HireLengths[NYB2020_HireLengths['HireLength_batches_number']==2]"
   ]
  },
  {
   "cell_type": "code",
   "execution_count": 28,
   "id": "9bb4c20a",
   "metadata": {},
   "outputs": [],
   "source": [
    "NYB2020_HireLengths3 = NYB2020_HireLengths[NYB2020_HireLengths['HireLength_batches_number']==3]"
   ]
  },
  {
   "cell_type": "code",
   "execution_count": 29,
   "id": "4404fa3c",
   "metadata": {},
   "outputs": [],
   "source": [
    "NYB2020_HireLengths4 = NYB2020_HireLengths[NYB2020_HireLengths['HireLength_batches_number']==4]"
   ]
  },
  {
   "cell_type": "code",
   "execution_count": 30,
   "id": "a8aba07c",
   "metadata": {},
   "outputs": [],
   "source": [
    "NYB2020_HireLengths5 = NYB2020_HireLengths[NYB2020_HireLengths['HireLength_batches_number']==5]"
   ]
  },
  {
   "cell_type": "code",
   "execution_count": 31,
   "id": "9f43bda9",
   "metadata": {},
   "outputs": [],
   "source": [
    "NYB2020_HireLengths6 = NYB2020_HireLengths[NYB2020_HireLengths['HireLength_batches_number']==6]"
   ]
  },
  {
   "cell_type": "code",
   "execution_count": 32,
   "id": "078f509f",
   "metadata": {},
   "outputs": [],
   "source": [
    "NYB2020_HireLengths7 = NYB2020_HireLengths[NYB2020_HireLengths['HireLength_batches_number']==7]"
   ]
  },
  {
   "cell_type": "code",
   "execution_count": 33,
   "id": "0c831249",
   "metadata": {},
   "outputs": [],
   "source": [
    "NYB2020_HireLengths8 = NYB2020_HireLengths[NYB2020_HireLengths['HireLength_batches_number']==8]"
   ]
  },
  {
   "cell_type": "code",
   "execution_count": 34,
   "id": "4bdb4754",
   "metadata": {},
   "outputs": [],
   "source": [
    "NYB2020_HireLengths9 = NYB2020_HireLengths[NYB2020_HireLengths['HireLength_batches_number']==9]"
   ]
  },
  {
   "cell_type": "code",
   "execution_count": 35,
   "id": "9e76cf9c",
   "metadata": {},
   "outputs": [],
   "source": [
    "NYB2020_HireLengths10 = NYB2020_HireLengths[NYB2020_HireLengths['HireLength_batches_number']==10]"
   ]
  },
  {
   "cell_type": "code",
   "execution_count": 51,
   "id": "1823ce0c",
   "metadata": {},
   "outputs": [],
   "source": [
    "NYB2020_HireLengths11 = NYB2020_HireLengths[NYB2020_HireLengths['HireLength_batches_number']==11]"
   ]
  },
  {
   "cell_type": "markdown",
   "id": "fd1e7bb9",
   "metadata": {},
   "source": [
    "## 5. Getting the counts of each batch, by user type"
   ]
  },
  {
   "cell_type": "code",
   "execution_count": 37,
   "id": "ca47a102",
   "metadata": {},
   "outputs": [
    {
     "data": {
      "text/plain": [
       "Customer      1657561\n",
       "Subscriber    9582720\n",
       "Name: usertype, dtype: int64"
      ]
     },
     "execution_count": 37,
     "metadata": {},
     "output_type": "execute_result"
    }
   ],
   "source": [
    "NYB2020_HireLengths1['usertype'].value_counts(dropna = False, ascending=True)"
   ]
  },
  {
   "cell_type": "code",
   "execution_count": 38,
   "id": "d4143beb",
   "metadata": {},
   "outputs": [
    {
     "data": {
      "text/plain": [
       "Customer      1752595\n",
       "Subscriber    3660783\n",
       "Name: usertype, dtype: int64"
      ]
     },
     "execution_count": 38,
     "metadata": {},
     "output_type": "execute_result"
    }
   ],
   "source": [
    "NYB2020_HireLengths2['usertype'].value_counts(dropna = False, ascending=True)"
   ]
  },
  {
   "cell_type": "code",
   "execution_count": 39,
   "id": "4aeee23a",
   "metadata": {},
   "outputs": [
    {
     "data": {
      "text/plain": [
       "Customer      215014\n",
       "Subscriber    245305\n",
       "Name: usertype, dtype: int64"
      ]
     },
     "execution_count": 39,
     "metadata": {},
     "output_type": "execute_result"
    }
   ],
   "source": [
    "NYB2020_HireLengths3['usertype'].value_counts(dropna = False, ascending=True)"
   ]
  },
  {
   "cell_type": "code",
   "execution_count": 40,
   "id": "4dfdf898",
   "metadata": {},
   "outputs": [
    {
     "data": {
      "text/plain": [
       "Subscriber    127599\n",
       "Customer      249443\n",
       "Name: usertype, dtype: int64"
      ]
     },
     "execution_count": 40,
     "metadata": {},
     "output_type": "execute_result"
    }
   ],
   "source": [
    "NYB2020_HireLengths4['usertype'].value_counts(dropna = False, ascending=True)"
   ]
  },
  {
   "cell_type": "code",
   "execution_count": 41,
   "id": "fa5af5da",
   "metadata": {},
   "outputs": [
    {
     "data": {
      "text/plain": [
       "Subscriber     9163\n",
       "Customer      26600\n",
       "Name: usertype, dtype: int64"
      ]
     },
     "execution_count": 41,
     "metadata": {},
     "output_type": "execute_result"
    }
   ],
   "source": [
    "NYB2020_HireLengths5['usertype'].value_counts(dropna = False, ascending=True)"
   ]
  },
  {
   "cell_type": "code",
   "execution_count": 42,
   "id": "c1064872",
   "metadata": {},
   "outputs": [
    {
     "data": {
      "text/plain": [
       "Subscriber    2537\n",
       "Customer      5736\n",
       "Name: usertype, dtype: int64"
      ]
     },
     "execution_count": 42,
     "metadata": {},
     "output_type": "execute_result"
    }
   ],
   "source": [
    "NYB2020_HireLengths6['usertype'].value_counts(dropna = False, ascending=True)"
   ]
  },
  {
   "cell_type": "code",
   "execution_count": 43,
   "id": "32824290",
   "metadata": {},
   "outputs": [
    {
     "data": {
      "text/plain": [
       "Subscriber    1348\n",
       "Customer      3224\n",
       "Name: usertype, dtype: int64"
      ]
     },
     "execution_count": 43,
     "metadata": {},
     "output_type": "execute_result"
    }
   ],
   "source": [
    "NYB2020_HireLengths7['usertype'].value_counts(dropna = False, ascending=True)"
   ]
  },
  {
   "cell_type": "code",
   "execution_count": 44,
   "id": "ed233d53",
   "metadata": {},
   "outputs": [
    {
     "data": {
      "text/plain": [
       "Subscriber     874\n",
       "Customer      2471\n",
       "Name: usertype, dtype: int64"
      ]
     },
     "execution_count": 44,
     "metadata": {},
     "output_type": "execute_result"
    }
   ],
   "source": [
    "NYB2020_HireLengths8['usertype'].value_counts(dropna = False, ascending=True)"
   ]
  },
  {
   "cell_type": "code",
   "execution_count": 45,
   "id": "c79b9061",
   "metadata": {},
   "outputs": [
    {
     "data": {
      "text/plain": [
       "Subscriber     989\n",
       "Customer      2373\n",
       "Name: usertype, dtype: int64"
      ]
     },
     "execution_count": 45,
     "metadata": {},
     "output_type": "execute_result"
    }
   ],
   "source": [
    "NYB2020_HireLengths9['usertype'].value_counts(dropna = False, ascending=True)"
   ]
  },
  {
   "cell_type": "code",
   "execution_count": 46,
   "id": "18b75f33",
   "metadata": {},
   "outputs": [
    {
     "data": {
      "text/plain": [
       "Subscriber    1652\n",
       "Customer      4059\n",
       "Name: usertype, dtype: int64"
      ]
     },
     "execution_count": 46,
     "metadata": {},
     "output_type": "execute_result"
    }
   ],
   "source": [
    "NYB2020_HireLengths10['usertype'].value_counts(dropna = False, ascending=True)"
   ]
  },
  {
   "cell_type": "code",
   "execution_count": 52,
   "id": "c34454ef",
   "metadata": {},
   "outputs": [
    {
     "data": {
      "text/plain": [
       "Customer      215014\n",
       "Subscriber    245305\n",
       "Name: usertype, dtype: int64"
      ]
     },
     "execution_count": 52,
     "metadata": {},
     "output_type": "execute_result"
    }
   ],
   "source": [
    "NYB2020_HireLengths11['usertype'].value_counts(dropna = False, ascending=True)"
   ]
  },
  {
   "cell_type": "markdown",
   "id": "cbec69b3",
   "metadata": {},
   "source": [
    "<font color=\"blue\"> <b>I copied all these numbers into Excel and imputed the Time Batches Names and Numbers</b></font>"
   ]
  },
  {
   "cell_type": "code",
   "execution_count": null,
   "id": "f44827e8",
   "metadata": {},
   "outputs": [],
   "source": []
  },
  {
   "cell_type": "code",
   "execution_count": null,
   "id": "65b0e19c",
   "metadata": {},
   "outputs": [],
   "source": []
  }
 ],
 "metadata": {
  "kernelspec": {
   "display_name": "Python 3 (ipykernel)",
   "language": "python",
   "name": "python3"
  },
  "language_info": {
   "codemirror_mode": {
    "name": "ipython",
    "version": 3
   },
   "file_extension": ".py",
   "mimetype": "text/x-python",
   "name": "python",
   "nbconvert_exporter": "python",
   "pygments_lexer": "ipython3",
   "version": "3.9.7"
  }
 },
 "nbformat": 4,
 "nbformat_minor": 5
}
