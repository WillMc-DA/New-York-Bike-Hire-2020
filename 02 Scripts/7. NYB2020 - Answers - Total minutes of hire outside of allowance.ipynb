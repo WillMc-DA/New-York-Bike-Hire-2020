{
 "cells": [
  {
   "cell_type": "markdown",
   "id": "57d9da58",
   "metadata": {},
   "source": [
    "### This script contains:\n",
    "\n",
    "#### 1. Import libraries & dataset\n",
    "#### 2. Data Checks and Wrangling\n",
    "#### 3. Flags to determine which Hires went over the free allowance\n",
    "####  - Customer/Subscriber Subsets\n",
    "####  - Exporting and re-importing the 2 datasets to get around Pythons \"copy of a slice from a DataFrame\" issue\n",
    "####  - Over Allowance Subsets\n",
    "####  - Total Minutes over allowance"
   ]
  },
  {
   "cell_type": "markdown",
   "id": "3fc3b077",
   "metadata": {},
   "source": [
    "## 1. Import libraries & dataset"
   ]
  },
  {
   "cell_type": "code",
   "execution_count": 1,
   "id": "7f85b30d",
   "metadata": {},
   "outputs": [],
   "source": [
    "#Import libraries \n",
    "import pandas as pd\n",
    "import numpy as np\n",
    "import seaborn as sns\n",
    "import matplotlib.pyplot as plt\n",
    "import matplotlib\n",
    "import os"
   ]
  },
  {
   "cell_type": "code",
   "execution_count": 2,
   "id": "fa3e36dd",
   "metadata": {},
   "outputs": [],
   "source": [
    "#Folder path into usable string\n",
    "path = r'C:\\Users\\willm\\Dropbox\\1 Data Analytics Course\\1 New York Citibike Hire'"
   ]
  },
  {
   "cell_type": "code",
   "execution_count": 3,
   "id": "a72cc694",
   "metadata": {},
   "outputs": [],
   "source": [
    "#Import Hire Dataset\n",
    "NYB2020 = pd.read_pickle(os.path.join(path, '02 Data','Prepared Data', 'NYB2020merged.pkl'))"
   ]
  },
  {
   "cell_type": "code",
   "execution_count": 4,
   "id": "ccd6cd93",
   "metadata": {},
   "outputs": [],
   "source": [
    "#Set Pandas to show all columns\n",
    "pd.set_option(\"display.max_columns\", None)"
   ]
  },
  {
   "cell_type": "code",
   "execution_count": 5,
   "id": "2c77fb89",
   "metadata": {},
   "outputs": [],
   "source": [
    "#Ensuring we see the full Latitudes and Longitudes\n",
    "pd.set_option('display.precision', 10)"
   ]
  },
  {
   "cell_type": "code",
   "execution_count": 6,
   "id": "96c78ca9",
   "metadata": {},
   "outputs": [],
   "source": [
    "%matplotlib inline"
   ]
  },
  {
   "cell_type": "markdown",
   "id": "7e4509da",
   "metadata": {},
   "source": [
    "## 2. Data Checks and Wrangling "
   ]
  },
  {
   "cell_type": "code",
   "execution_count": 7,
   "id": "42bc65b6",
   "metadata": {},
   "outputs": [
    {
     "name": "stdout",
     "output_type": "stream",
     "text": [
      "<class 'pandas.core.frame.DataFrame'>\n",
      "Int64Index: 19506857 entries, 0 to 19506856\n",
      "Data columns (total 25 columns):\n",
      " #   Column                   Dtype  \n",
      "---  ------                   -----  \n",
      " 0   tripduration             int64  \n",
      " 1   starttime                object \n",
      " 2   stoptime                 object \n",
      " 3   start_station_id         int16  \n",
      " 4   start_station_name       object \n",
      " 5   start_station_latitude   float64\n",
      " 6   start_station_longitude  float64\n",
      " 7   end_station_id           int16  \n",
      " 8   end_station_name         object \n",
      " 9   end_station_latitude     float64\n",
      " 10  end_station_longitude    float64\n",
      " 11  bikeid                   int32  \n",
      " 12  usertype                 object \n",
      " 13  birth_year               int16  \n",
      " 14  gender                   int8   \n",
      " 15  start_hour               int8   \n",
      " 16  start_date2              object \n",
      " 17  temp                     int8   \n",
      " 18  rain_snow                float16\n",
      " 19  day_of_week              object \n",
      " 20  day_of_week_number       int8   \n",
      " 21  month                    object \n",
      " 22  month_number             int8   \n",
      " 23  TripMins                 float64\n",
      " 24  age                      int16  \n",
      "dtypes: float16(1), float64(5), int16(4), int32(1), int64(1), int8(5), object(8)\n",
      "memory usage: 2.5+ GB\n"
     ]
    }
   ],
   "source": [
    "NYB2020.info()"
   ]
  },
  {
   "cell_type": "code",
   "execution_count": 8,
   "id": "454f813e",
   "metadata": {},
   "outputs": [],
   "source": [
    "NYB2020['TripMins'] = NYB2020['TripMins'].astype('int32')"
   ]
  },
  {
   "cell_type": "code",
   "execution_count": 9,
   "id": "e047edef",
   "metadata": {},
   "outputs": [
    {
     "name": "stdout",
     "output_type": "stream",
     "text": [
      "<class 'pandas.core.frame.DataFrame'>\n",
      "Int64Index: 19506857 entries, 0 to 19506856\n",
      "Data columns (total 25 columns):\n",
      " #   Column                   Dtype  \n",
      "---  ------                   -----  \n",
      " 0   tripduration             int64  \n",
      " 1   starttime                object \n",
      " 2   stoptime                 object \n",
      " 3   start_station_id         int16  \n",
      " 4   start_station_name       object \n",
      " 5   start_station_latitude   float64\n",
      " 6   start_station_longitude  float64\n",
      " 7   end_station_id           int16  \n",
      " 8   end_station_name         object \n",
      " 9   end_station_latitude     float64\n",
      " 10  end_station_longitude    float64\n",
      " 11  bikeid                   int32  \n",
      " 12  usertype                 object \n",
      " 13  birth_year               int16  \n",
      " 14  gender                   int8   \n",
      " 15  start_hour               int8   \n",
      " 16  start_date2              object \n",
      " 17  temp                     int8   \n",
      " 18  rain_snow                float16\n",
      " 19  day_of_week              object \n",
      " 20  day_of_week_number       int8   \n",
      " 21  month                    object \n",
      " 22  month_number             int8   \n",
      " 23  TripMins                 int32  \n",
      " 24  age                      int16  \n",
      "dtypes: float16(1), float64(4), int16(4), int32(2), int64(1), int8(5), object(8)\n",
      "memory usage: 2.5+ GB\n"
     ]
    }
   ],
   "source": [
    "NYB2020.info()"
   ]
  },
  {
   "cell_type": "markdown",
   "id": "990b23e7",
   "metadata": {},
   "source": [
    "## 3. Flags to determine which Hires went over the free allowance\n",
    "#### I am deliberately running Customers and Subscribers one after another, step by step.\n",
    "#### this allows me to spot issues\n",
    "##### - Customers get 30 mins free, per trip - Subscribers get 45 mins free, per trip."
   ]
  },
  {
   "cell_type": "markdown",
   "id": "98bc06c6",
   "metadata": {},
   "source": [
    "### - Customer/Subscriber Subsets"
   ]
  },
  {
   "cell_type": "code",
   "execution_count": 11,
   "id": "befbcccc",
   "metadata": {},
   "outputs": [],
   "source": [
    "NYB2020_Cust = NYB2020[NYB2020['usertype']=='Customer']"
   ]
  },
  {
   "cell_type": "code",
   "execution_count": 12,
   "id": "0c19c211",
   "metadata": {},
   "outputs": [],
   "source": [
    "NYB2020_Sub = NYB2020[NYB2020['usertype']=='Subscriber']"
   ]
  },
  {
   "cell_type": "code",
   "execution_count": 13,
   "id": "b794fb1c",
   "metadata": {},
   "outputs": [
    {
     "data": {
      "text/plain": [
       "Customer       4551091\n",
       "Subscriber    14955766\n",
       "Name: usertype, dtype: int64"
      ]
     },
     "execution_count": 13,
     "metadata": {},
     "output_type": "execute_result"
    }
   ],
   "source": [
    "#Using the original dataset to see that the new subsets numbers match up\n",
    "NYB2020['usertype'].value_counts(dropna = False, ascending=True)"
   ]
  },
  {
   "cell_type": "code",
   "execution_count": 14,
   "id": "753c82f1",
   "metadata": {},
   "outputs": [
    {
     "data": {
      "text/plain": [
       "(4551091, 25)"
      ]
     },
     "execution_count": 14,
     "metadata": {},
     "output_type": "execute_result"
    }
   ],
   "source": [
    "NYB2020_Cust.shape"
   ]
  },
  {
   "cell_type": "code",
   "execution_count": 15,
   "id": "6b129f4b",
   "metadata": {},
   "outputs": [
    {
     "data": {
      "text/plain": [
       "(14955766, 25)"
      ]
     },
     "execution_count": 15,
     "metadata": {},
     "output_type": "execute_result"
    }
   ],
   "source": [
    "NYB2020_Sub.shape"
   ]
  },
  {
   "cell_type": "code",
   "execution_count": 16,
   "id": "e9a3a5a3",
   "metadata": {},
   "outputs": [
    {
     "data": {
      "text/html": [
       "<div>\n",
       "<style scoped>\n",
       "    .dataframe tbody tr th:only-of-type {\n",
       "        vertical-align: middle;\n",
       "    }\n",
       "\n",
       "    .dataframe tbody tr th {\n",
       "        vertical-align: top;\n",
       "    }\n",
       "\n",
       "    .dataframe thead th {\n",
       "        text-align: right;\n",
       "    }\n",
       "</style>\n",
       "<table border=\"1\" class=\"dataframe\">\n",
       "  <thead>\n",
       "    <tr style=\"text-align: right;\">\n",
       "      <th></th>\n",
       "      <th>usertype</th>\n",
       "      <th>start_date2</th>\n",
       "    </tr>\n",
       "  </thead>\n",
       "  <tbody>\n",
       "    <tr>\n",
       "      <th>19506772</th>\n",
       "      <td>Customer</td>\n",
       "      <td>2020-12-31</td>\n",
       "    </tr>\n",
       "    <tr>\n",
       "      <th>19506776</th>\n",
       "      <td>Customer</td>\n",
       "      <td>2020-12-31</td>\n",
       "    </tr>\n",
       "    <tr>\n",
       "      <th>19506778</th>\n",
       "      <td>Customer</td>\n",
       "      <td>2020-12-31</td>\n",
       "    </tr>\n",
       "    <tr>\n",
       "      <th>19506781</th>\n",
       "      <td>Customer</td>\n",
       "      <td>2020-12-31</td>\n",
       "    </tr>\n",
       "    <tr>\n",
       "      <th>19506783</th>\n",
       "      <td>Customer</td>\n",
       "      <td>2020-12-31</td>\n",
       "    </tr>\n",
       "    <tr>\n",
       "      <th>19506789</th>\n",
       "      <td>Customer</td>\n",
       "      <td>2020-12-31</td>\n",
       "    </tr>\n",
       "    <tr>\n",
       "      <th>19506790</th>\n",
       "      <td>Customer</td>\n",
       "      <td>2020-12-31</td>\n",
       "    </tr>\n",
       "    <tr>\n",
       "      <th>19506791</th>\n",
       "      <td>Customer</td>\n",
       "      <td>2020-12-31</td>\n",
       "    </tr>\n",
       "    <tr>\n",
       "      <th>19506794</th>\n",
       "      <td>Customer</td>\n",
       "      <td>2020-12-31</td>\n",
       "    </tr>\n",
       "    <tr>\n",
       "      <th>19506796</th>\n",
       "      <td>Customer</td>\n",
       "      <td>2020-12-31</td>\n",
       "    </tr>\n",
       "    <tr>\n",
       "      <th>19506801</th>\n",
       "      <td>Customer</td>\n",
       "      <td>2020-12-31</td>\n",
       "    </tr>\n",
       "    <tr>\n",
       "      <th>19506811</th>\n",
       "      <td>Customer</td>\n",
       "      <td>2020-12-31</td>\n",
       "    </tr>\n",
       "    <tr>\n",
       "      <th>19506813</th>\n",
       "      <td>Customer</td>\n",
       "      <td>2020-12-31</td>\n",
       "    </tr>\n",
       "    <tr>\n",
       "      <th>19506819</th>\n",
       "      <td>Customer</td>\n",
       "      <td>2020-12-31</td>\n",
       "    </tr>\n",
       "    <tr>\n",
       "      <th>19506836</th>\n",
       "      <td>Customer</td>\n",
       "      <td>2020-12-31</td>\n",
       "    </tr>\n",
       "    <tr>\n",
       "      <th>19506840</th>\n",
       "      <td>Customer</td>\n",
       "      <td>2020-12-31</td>\n",
       "    </tr>\n",
       "    <tr>\n",
       "      <th>19506843</th>\n",
       "      <td>Customer</td>\n",
       "      <td>2020-12-31</td>\n",
       "    </tr>\n",
       "    <tr>\n",
       "      <th>19506849</th>\n",
       "      <td>Customer</td>\n",
       "      <td>2020-12-31</td>\n",
       "    </tr>\n",
       "    <tr>\n",
       "      <th>19506854</th>\n",
       "      <td>Customer</td>\n",
       "      <td>2020-12-31</td>\n",
       "    </tr>\n",
       "    <tr>\n",
       "      <th>19506856</th>\n",
       "      <td>Customer</td>\n",
       "      <td>2020-12-31</td>\n",
       "    </tr>\n",
       "  </tbody>\n",
       "</table>\n",
       "</div>"
      ],
      "text/plain": [
       "          usertype start_date2\n",
       "19506772  Customer  2020-12-31\n",
       "19506776  Customer  2020-12-31\n",
       "19506778  Customer  2020-12-31\n",
       "19506781  Customer  2020-12-31\n",
       "19506783  Customer  2020-12-31\n",
       "19506789  Customer  2020-12-31\n",
       "19506790  Customer  2020-12-31\n",
       "19506791  Customer  2020-12-31\n",
       "19506794  Customer  2020-12-31\n",
       "19506796  Customer  2020-12-31\n",
       "19506801  Customer  2020-12-31\n",
       "19506811  Customer  2020-12-31\n",
       "19506813  Customer  2020-12-31\n",
       "19506819  Customer  2020-12-31\n",
       "19506836  Customer  2020-12-31\n",
       "19506840  Customer  2020-12-31\n",
       "19506843  Customer  2020-12-31\n",
       "19506849  Customer  2020-12-31\n",
       "19506854  Customer  2020-12-31\n",
       "19506856  Customer  2020-12-31"
      ]
     },
     "execution_count": 16,
     "metadata": {},
     "output_type": "execute_result"
    }
   ],
   "source": [
    "#Requesting to just view 2 columns to see the subset working\n",
    "NYB2020_Cust[['usertype', 'start_date2']].tail(20)"
   ]
  },
  {
   "cell_type": "markdown",
   "id": "42a54a01",
   "metadata": {},
   "source": [
    "### - Exporting and re-importing the 2 datasets to get around Pythons \"copy of a slice from a DataFrame\" issue."
   ]
  },
  {
   "cell_type": "code",
   "execution_count": 19,
   "id": "672f044a",
   "metadata": {},
   "outputs": [],
   "source": [
    "#Exporting the Customers\n",
    "NYB2020_Cust.to_pickle(os.path.join(path, '02 Data','Prepared Data', 'NYB2020_Cust.pkl'))"
   ]
  },
  {
   "cell_type": "code",
   "execution_count": 20,
   "id": "f7f77fa9",
   "metadata": {},
   "outputs": [],
   "source": [
    "#Importing the Customers dataset\n",
    "NYB2020_Custs = pd.read_pickle(os.path.join(path, '02 Data','Prepared Data', 'NYB2020_Cust.pkl'))"
   ]
  },
  {
   "cell_type": "code",
   "execution_count": 22,
   "id": "4f9c0dcb",
   "metadata": {},
   "outputs": [],
   "source": [
    "#Exporting the Subscribers\n",
    "NYB2020_Sub.to_pickle(os.path.join(path, '02 Data','Prepared Data', 'NYB2020_Sub.pkl'))"
   ]
  },
  {
   "cell_type": "code",
   "execution_count": 23,
   "id": "b3891de3",
   "metadata": {},
   "outputs": [],
   "source": [
    "#Importing the Subscribers dataset\n",
    "NYB2020_Subs = pd.read_pickle(os.path.join(path, '02 Data','Prepared Data', 'NYB2020_Sub.pkl'))"
   ]
  },
  {
   "cell_type": "markdown",
   "id": "5e834261",
   "metadata": {},
   "source": [
    "### - Over Allowance Subsets"
   ]
  },
  {
   "cell_type": "code",
   "execution_count": 24,
   "id": "b5db3de4",
   "metadata": {},
   "outputs": [],
   "source": [
    "#Creating a new column to display one of two flags, depending on the length of hire\n",
    "NYB2020_Custs.loc[NYB2020_Custs['TripMins'] > 30, 'Over_Allowance'] = 'Yes'\n",
    "NYB2020_Custs.loc[NYB2020_Custs['TripMins'] <= 30, 'Over_Allowance'] = 'No'"
   ]
  },
  {
   "cell_type": "code",
   "execution_count": 25,
   "id": "6abe08a8",
   "metadata": {},
   "outputs": [],
   "source": [
    "#Creating a new column to display one of two flags, depending on the length of hire\n",
    "NYB2020_Subs.loc[NYB2020_Subs['TripMins'] > 45, 'Over_Allowance'] = 'Yes'\n",
    "NYB2020_Subs.loc[NYB2020_Subs['TripMins'] <= 45, 'Over_Allowance'] = 'No'"
   ]
  },
  {
   "cell_type": "code",
   "execution_count": 26,
   "id": "0e8e81fb",
   "metadata": {},
   "outputs": [],
   "source": [
    "NYB2020_Custs2 = NYB2020_Custs[NYB2020_Custs['Over_Allowance']=='Yes']"
   ]
  },
  {
   "cell_type": "code",
   "execution_count": 27,
   "id": "c3d38cde",
   "metadata": {},
   "outputs": [
    {
     "data": {
      "text/plain": [
       "tripduration               1140935\n",
       "starttime                  1140935\n",
       "stoptime                   1140935\n",
       "start_station_id           1140935\n",
       "start_station_name         1140935\n",
       "start_station_latitude     1140935\n",
       "start_station_longitude    1140935\n",
       "end_station_id             1140935\n",
       "end_station_name           1140935\n",
       "end_station_latitude       1140935\n",
       "end_station_longitude      1140935\n",
       "bikeid                     1140935\n",
       "usertype                   1140935\n",
       "birth_year                 1140935\n",
       "gender                     1140935\n",
       "start_hour                 1140935\n",
       "start_date2                1140935\n",
       "temp                       1140935\n",
       "rain_snow                  1140935\n",
       "day_of_week                1140935\n",
       "day_of_week_number         1140935\n",
       "month                      1140935\n",
       "month_number               1140935\n",
       "TripMins                   1140935\n",
       "age                        1140935\n",
       "Over_Allowance             1140935\n",
       "dtype: int64"
      ]
     },
     "execution_count": 27,
     "metadata": {},
     "output_type": "execute_result"
    }
   ],
   "source": [
    "NYB2020_Custs2.count()"
   ]
  },
  {
   "cell_type": "code",
   "execution_count": 28,
   "id": "afbe4caa",
   "metadata": {},
   "outputs": [],
   "source": [
    "NYB2020_Subs2 = NYB2020_Subs[NYB2020_Subs['Over_Allowance']=='Yes']"
   ]
  },
  {
   "cell_type": "code",
   "execution_count": 29,
   "id": "574dce3d",
   "metadata": {},
   "outputs": [
    {
     "data": {
      "text/plain": [
       "tripduration               389467\n",
       "starttime                  389467\n",
       "stoptime                   389467\n",
       "start_station_id           389467\n",
       "start_station_name         389467\n",
       "start_station_latitude     389467\n",
       "start_station_longitude    389467\n",
       "end_station_id             389467\n",
       "end_station_name           389467\n",
       "end_station_latitude       389467\n",
       "end_station_longitude      389467\n",
       "bikeid                     389467\n",
       "usertype                   389467\n",
       "birth_year                 389467\n",
       "gender                     389467\n",
       "start_hour                 389467\n",
       "start_date2                389467\n",
       "temp                       389467\n",
       "rain_snow                  389467\n",
       "day_of_week                389467\n",
       "day_of_week_number         389467\n",
       "month                      389467\n",
       "month_number               389467\n",
       "TripMins                   389467\n",
       "age                        389467\n",
       "Over_Allowance             389467\n",
       "dtype: int64"
      ]
     },
     "execution_count": 29,
     "metadata": {},
     "output_type": "execute_result"
    }
   ],
   "source": [
    "NYB2020_Subs2.count()"
   ]
  },
  {
   "cell_type": "markdown",
   "id": "30727f78",
   "metadata": {},
   "source": [
    "### - Total Minutes over allowance"
   ]
  },
  {
   "cell_type": "code",
   "execution_count": 30,
   "id": "4cf8ba29",
   "metadata": {},
   "outputs": [
    {
     "data": {
      "text/plain": [
       "120403993"
      ]
     },
     "execution_count": 30,
     "metadata": {},
     "output_type": "execute_result"
    }
   ],
   "source": [
    "NYB2020_Custs2['TripMins'].sum()"
   ]
  },
  {
   "cell_type": "code",
   "execution_count": 31,
   "id": "86abd454",
   "metadata": {},
   "outputs": [
    {
     "data": {
      "text/plain": [
       "47315601"
      ]
     },
     "execution_count": 31,
     "metadata": {},
     "output_type": "execute_result"
    }
   ],
   "source": [
    "NYB2020_Subs2['TripMins'].sum()"
   ]
  },
  {
   "cell_type": "markdown",
   "id": "12584e22",
   "metadata": {},
   "source": [
    "Adding these 2 numbers together will get us the total number of minutes Users have used over their allowance\n",
    "Multiple that by 15 cent and we get the total ammount of 'extra' money Citibike took in."
   ]
  },
  {
   "cell_type": "code",
   "execution_count": null,
   "id": "36165aeb",
   "metadata": {},
   "outputs": [],
   "source": [
    "167,719,594 * .15 = 25,157,939.10"
   ]
  }
 ],
 "metadata": {
  "kernelspec": {
   "display_name": "Python 3 (ipykernel)",
   "language": "python",
   "name": "python3"
  },
  "language_info": {
   "codemirror_mode": {
    "name": "ipython",
    "version": 3
   },
   "file_extension": ".py",
   "mimetype": "text/x-python",
   "name": "python",
   "nbconvert_exporter": "python",
   "pygments_lexer": "ipython3",
   "version": "3.9.7"
  }
 },
 "nbformat": 4,
 "nbformat_minor": 5
}
